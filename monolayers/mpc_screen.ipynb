{
 "cells": [
  {
   "cell_type": "code",
   "execution_count": 1,
   "metadata": {
    "collapsed": true
   },
   "outputs": [],
   "source": [
    "import itertools as it\n",
    "import time\n",
    "import os\n",
    "import shutil\n",
    "import textwrap\n",
    "\n",
    "import matplotlib.pyplot as plt\n",
    "import mdtraj as md\n",
    "import numpy as np\n",
    "import seaborn as sns\n",
    "\n",
    "import mbuild as mb\n",
    "import metamds as mds\n",
    "\n",
    "from mbuild.lib.surfaces import Betacristobalite\n",
    "from mbuild.lib.atoms import H\n",
    "from mbuild.lib.moieties import Silane, H2O\n",
    "from mbuild.examples.pmpc.brush import Brush\n",
    "\n",
    "used_random_patterns = dict()"
   ]
  },
  {
   "cell_type": "code",
   "execution_count": 13,
   "metadata": {
    "collapsed": true
   },
   "outputs": [],
   "source": [
    "def build_monolayer(n_molecules, pattern_class, n_waters, **kwargs):\n",
    "    if pattern_class is mb.Random2DPattern:\n",
    "        if n_molecules in used_random_patterns:\n",
    "            pattern = used_random_patterns[n_molecules]\n",
    "        else:\n",
    "            pattern = pattern_class(n_molecules)\n",
    "        pattern_name = 'rand'\n",
    "    if pattern_class is mb.Grid2DPattern:\n",
    "        pattern = pattern_class(int(np.sqrt(n_molecules)),\n",
    "                                int(np.sqrt(n_molecules)))\n",
    "        pattern_name = 'grid'\n",
    "\n",
    "    chain = Brush(1)\n",
    "    bot = mb.Monolayer(surface=Betacristobalite(),\n",
    "                       pattern=pattern, \n",
    "                       chains=chain,\n",
    "                       fractions=[0.2],\n",
    "                       backfill=H())\n",
    "    mb.translate(bot, [0, 0, 2])\n",
    "\n",
    "    bot_box = bot.boundingbox\n",
    "    bot_of_bot = bot_box.mins[2]\n",
    "\n",
    "    bot_rigid = [i + 1 for i, a in enumerate(bot.particles())\n",
    "                 if (a.pos[2] < bot_of_bot + 0.05) and a.name == 'Si']\n",
    "    n_particles = bot.n_particles\n",
    "    top_rigid = [i + n_particles for i in bot_rigid]\n",
    "\n",
    "    top = mb.clone(bot)\n",
    "    mb.spin_y(top, np.pi)\n",
    "    top_of_bot = bot_box.maxs[2]\n",
    "    bot_of_top = top.boundingbox.mins[2]\n",
    "    mb.translate(top, [0, 0, top_of_bot - bot_of_top + 3])\n",
    "  \n",
    "    bot_box = bot.boundingbox\n",
    "    top_box = top.boundingbox\n",
    "    water_box = mb.Box(mins=[bot_box.mins[0], bot_box.mins[1], bot_box.maxs[2]+0.5],\n",
    "                       maxs=[bot_box.maxs[0], bot_box.maxs[1], top_box.mins[2]-0.5])\n",
    "    water = mb.fill_box(H2O(), n_waters, water_box)\n",
    "    mb.translate(water, [0, 0, top_of_bot + 0.5])\n",
    "\n",
    "    monolayer = mb.Compound([bot, top, water])\n",
    "    monolayer.name = 'mpc_n-{}-{}'.format(n_molecules, pattern_name)\n",
    "    rigid_groups = {'bot': bot_rigid,\n",
    "                    'top': top_rigid}\n",
    "    return monolayer, rigid_groups"
   ]
  },
  {
   "cell_type": "code",
   "execution_count": 14,
   "metadata": {
    "collapsed": false
   },
   "outputs": [
    {
     "name": "stderr",
     "output_type": "stream",
     "text": [
      "/Users/ctk3b/science/python/mbuild/mbuild/recipes/monolayer.py:83: UserWarning: \n",
      " Adding 16 of chain <Brush 80 particles, non-periodic, 79 bonds, id: 4772959288>\n",
      "  warnings.warn(\"\\n Adding {} of chain {}\".format(len(pattern), chains[-1]))\n"
     ]
    }
   ],
   "source": [
    "mon, grps = build_monolayer(n_molecules=20, n_waters=500, pattern_class=mb.Grid2DPattern)"
   ]
  },
  {
   "cell_type": "code",
   "execution_count": 15,
   "metadata": {
    "collapsed": true
   },
   "outputs": [],
   "source": [
    "mon.visualize()"
   ]
  },
  {
   "cell_type": "code",
   "execution_count": 3,
   "metadata": {
    "collapsed": true
   },
   "outputs": [],
   "source": [
    "def create_run_script(build_func, forcefield, input_dir, **kwargs):\n",
    "    compound, rigid_groups = build_func(**kwargs)\n",
    "    name = compound.name\n",
    "    em = os.path.join(input_dir, 'em.mdp')\n",
    "    nvt = os.path.join(input_dir, 'nvt.mdp')\n",
    "    shear = os.path.join(input_dir, 'const_vel.mdp')\n",
    "    gro = '{name}.gro'.format(name=name)\n",
    "    top = '{name}.top'.format(name=name)\n",
    "    ndx = '{name}.ndx'.format(name=name)\n",
    "\n",
    "    box = compound.boundingbox\n",
    "    compound.periodicity += np.array([0, 0, 5 * box.lengths[2]])\n",
    "    compound.save(top, forcefield=forcefield, overwrite=True)\n",
    "\n",
    "    with open(ndx, 'w') as f:\n",
    "        f.write('[ System ]\\n')\n",
    "        atoms = '{}\\n'.format(' '.join(str(x + 1) for x in range(compound.n_particles)))\n",
    "        f.write(textwrap.fill(atoms, 80))\n",
    "        f.write('\\n')\n",
    "        for name, indices in rigid_groups.items():\n",
    "            f.write('[ {name} ]\\n'.format(name=name))\n",
    "            atoms = '{}\\n'.format(' '.join(str(x) for x in indices))\n",
    "            f.write(textwrap.fill(atoms, 80))\n",
    "            f.write('\\n')\n",
    "\n",
    "    cmds = list()\n",
    "    cmds.append('gmx grompp -f {mdp} -c {gro} -p {top} -n {ndx} -o em.tpr'.format(mdp=em, gro=gro, top=top, ndx=ndx))\n",
    "    cmds.append('gmx mdrun -v -deffnm em -ntmpi 1')\n",
    "\n",
    "    cmds.append('gmx grompp -f {mdp} -c em.gro -p {top} -n {ndx} -o nvt.tpr'.format(mdp=nvt, top=top, ndx=ndx))\n",
    "    cmds.append('gmx mdrun -v -deffnm nvt -ntmpi 1')\n",
    "\n",
    "    cmds.append('gmx grompp -f {mdp} -c nvt.gro -p {top} -n {ndx} -o shear.tpr'.format(mdp=shear, top=top, ndx=ndx))\n",
    "    cmds.append('gmx mdrun -v -deffnm shear -ntmpi 1')\n",
    "\n",
    "    # add shearing commands\n",
    "\n",
    "    return cmds"
   ]
  },
  {
   "cell_type": "code",
   "execution_count": null,
   "metadata": {
    "collapsed": true
   },
   "outputs": [],
   "source": []
  },
  {
   "cell_type": "code",
   "execution_count": null,
   "metadata": {
    "collapsed": true
   },
   "outputs": [],
   "source": [
    "# Initialize a simulation instance with a template and some metadata\n",
    "try:\n",
    "    shutil.rmtree('output')\n",
    "except FileNotFoundError:\n",
    "    pass\n",
    "sim = mds.Simulation(name='monolayer', template=create_run_script, output_dir='output')\n",
    "\n",
    "n_chains = [20]\n",
    "n_waters = [200]\n",
    "pattern = mb.Grid2DPattern\n",
    "for n_mols, n_wats in it.product(n_molecules, n_waters):\n",
    "    parameters = {'n_chains': n_mols,\n",
    "                  'n_waters': n_wats,\n",
    "                  'forcefield': 'OPLS-aa',\n",
    "                  'pattern_class': pattern,\n",
    "                  'build_func': build_monolayer}\n",
    "\n",
    "    # Parameterize our simulation template\n",
    "    sim.parametrize(**parameters)\n",
    "\n",
    "# Run\n",
    "# sim.execute_all(hostname='rahman.vuse.vanderbilt.edu', username='ctk3b')\n",
    "sim.execute_all()"
   ]
  }
 ],
 "metadata": {
  "anaconda-cloud": {},
  "kernelspec": {
   "display_name": "Python [default]",
   "language": "python",
   "name": "python3"
  },
  "language_info": {
   "codemirror_mode": {
    "name": "ipython",
    "version": 3
   },
   "file_extension": ".py",
   "mimetype": "text/x-python",
   "name": "python",
   "nbconvert_exporter": "python",
   "pygments_lexer": "ipython3",
   "version": "3.4.5"
  },
  "widgets": {
   "state": {
    "41fbce44a7994d7096bdeeea22dd6138": {
     "views": [
      {
       "cell_index": 3
      }
     ]
    },
    "652f4930340041c9bfff3111e6f225d9": {
     "views": [
      {
       "cell_index": 3
      }
     ]
    },
    "737589381f7c42a8afe5c3eddcea05b8": {
     "views": [
      {
       "cell_index": 3
      }
     ]
    },
    "a269a52c47e54399a087bed746f5c9f1": {
     "views": [
      {
       "cell_index": 3
      }
     ]
    },
    "a8d388ed2ac64193acd53ad83233e951": {
     "views": [
      {
       "cell_index": 3
      }
     ]
    },
    "b1cd45b47bcd4f89b9d1524f431e2ff9": {
     "views": [
      {
       "cell_index": 3
      }
     ]
    }
   },
   "version": "1.2.0"
  }
 },
 "nbformat": 4,
 "nbformat_minor": 0
}
